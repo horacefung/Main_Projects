{
 "cells": [
  {
   "cell_type": "code",
   "execution_count": 1,
   "metadata": {},
   "outputs": [],
   "source": [
    "import numpy as np\n",
    "import arff\n",
    "#from scipy.io import arff\n",
    "import pandas as pd\n",
    "import random\n",
    "import math\n",
    "import pickle"
   ]
  },
  {
   "cell_type": "code",
   "execution_count": 2,
   "metadata": {},
   "outputs": [],
   "source": [
    "#An accelerometer is an electromechanical device used to measure acceleration forces. \n",
    "#Such forces may be static, like the continuous force of gravity \n",
    "#or, as is the case with many mobile devices, dynamic to sense movement or vibrations.\n",
    "\n",
    "#For each axis (x,y,z), the accelerometer will measure an electrical signal proportional to the acceleration\n",
    "#experienced by the device.\n",
    "\n",
    "\n",
    "#A gyroscope is a device that uses Earth's gravity to help determine orientation. \n",
    "#Its design consists of a freely-rotating disk called a rotor, mounted onto a spinning axis in the center\n",
    "#of a larger and more stable wheel. As the axis turns, the rotor remains stationary to indicate the \n",
    "#central gravitational pull, and thus which way is \"down.\"\n",
    "\n",
    "#For each axis (x,y,z), the gyroscope will measure angular velocity. Imagine placing a gyroscope on a wheel, with\n",
    "#x-axis parallel to the wheel. As it turns, x will measure some value for angular velocity as it is rotating\n",
    "#on the x-axis, whereas y and z will measure zero."
   ]
  },
  {
   "cell_type": "code",
   "execution_count": 3,
   "metadata": {},
   "outputs": [],
   "source": [
    "def parse_data(first_index, last_index, input_directory):\n",
    "    \n",
    "    '''Simple function to parse data, merge accel & gyro, and create labels'''\n",
    "    \n",
    "    # Read in the files\n",
    "    number_of_users = last_index - first_index\n",
    "    output_list = (number_of_users + 1) * [None]  # Pre-allocate list, +1 inclusive of 50th user\n",
    "    counter = 0\n",
    "    \n",
    "    for i in range(first_index, last_index + 1):\n",
    "        \n",
    "        # accelerator data\n",
    "        path = input_directory + '/accel/data_' + str(i) + '_accel_watch.txt'\n",
    "        file = pd.read_csv(path, sep = ',', header = None)\n",
    "        file.columns = ['subject_id', 'activity_class', 'timestamp','accel_x', 'accel_y', 'accel_z']\n",
    "        \n",
    "        # gyroscope data\n",
    "        path = input_directory + '/gyro/data_' + str(i) + '_gyro_watch.txt'\n",
    "        file2 = pd.read_csv(path, sep = ',', header = None)\n",
    "        file2.columns = ['subject_id', 'activity_class', 'timestamp', 'gyro_x', 'gyro_y', 'gyro_z']\n",
    "        \n",
    "        # Merge the two\n",
    "        join_key = ['subject_id', 'timestamp', 'activity_class']\n",
    "        file = pd.merge(file, file2, how = 'left', left_on = join_key, right_on = join_key)\n",
    "        \n",
    "        # Set element in list to df, O(1)\n",
    "        output_list[counter] = file\n",
    "        \n",
    "        print('Completed subject: ', i)\n",
    "        counter += 1\n",
    "    \n",
    "    # Concat list of dfs\n",
    "    output_df = pd.concat(output_list)\n",
    "    \n",
    "    # Adjust z-axis column to float\n",
    "    output_df['accel_z'] =  output_df['accel_z'].astype('str')\n",
    "    output_df['gyro_z'] =  output_df['gyro_z'].astype('str')\n",
    "    output_df['accel_z'] = output_df['accel_z'].apply(lambda x: float(x.replace(';', '')))\n",
    "    output_df['gyro_z'] = output_df['gyro_z'].apply(lambda x: float(x.replace(';', '')))\n",
    "    \n",
    "    # Create binary class\n",
    "    exercise = ['A','B','M','O','P']\n",
    "    non_exercise = ['C', 'D', 'E', 'F', 'G', 'H', 'I', 'J', 'K', 'L', 'Q', 'R', 'S']\n",
    "    output_df.loc[output_df['activity_class'].isin(exercise), 'is_exercise'] = 1\n",
    "    output_df.loc[output_df['activity_class'].isin(non_exercise), 'is_exercise'] = 0\n",
    "    \n",
    "    # Drop na (first and last measurement for gyroscope)\n",
    "    output_df.dropna(inplace = True)\n",
    "    \n",
    "    # Sort by subject, time and create time period variable\n",
    "    output_df[\"time_period\"] = output_df.groupby(\"subject_id\")[\"timestamp\"].rank(method=\"first\", ascending=True)\n",
    "    output_df.sort_values(['subject_id', 'time_period'], ascending = True, inplace = True)\n",
    "    \n",
    "    return(output_df)\n",
    "\n",
    "def train_test_split_on_users(output_df, train_pct):\n",
    "    \n",
    "    '''Split by users for train-testing'''\n",
    "    \n",
    "    users = list(set(output_df['subject_id']))\n",
    "    random.shuffle(users)\n",
    "    number_of_users = len(users)\n",
    "    number_of_train_users = math.ceil(number_of_users * train_pct)\n",
    "    \n",
    "    train_df = output_df[output_df['subject_id'].isin(users[:number_of_train_users])]\n",
    "    test_df = output_df[output_df['subject_id'].isin(users[number_of_train_users:])]\n",
    "                 \n",
    "    return(train_df, test_df)\n",
    "    "
   ]
  },
  {
   "cell_type": "code",
   "execution_count": 4,
   "metadata": {},
   "outputs": [
    {
     "name": "stdout",
     "output_type": "stream",
     "text": [
      "Completed subject:  1600\n",
      "Completed subject:  1601\n",
      "Completed subject:  1602\n",
      "Completed subject:  1603\n",
      "Completed subject:  1604\n",
      "Completed subject:  1605\n",
      "Completed subject:  1606\n",
      "Completed subject:  1607\n",
      "Completed subject:  1608\n",
      "Completed subject:  1609\n",
      "Completed subject:  1610\n",
      "Completed subject:  1611\n",
      "Completed subject:  1612\n",
      "Completed subject:  1613\n",
      "Completed subject:  1614\n",
      "Completed subject:  1615\n",
      "Completed subject:  1616\n",
      "Completed subject:  1617\n",
      "Completed subject:  1618\n",
      "Completed subject:  1619\n",
      "Completed subject:  1620\n",
      "Completed subject:  1621\n",
      "Completed subject:  1622\n",
      "Completed subject:  1623\n",
      "Completed subject:  1624\n",
      "Completed subject:  1625\n",
      "Completed subject:  1626\n",
      "Completed subject:  1627\n",
      "Completed subject:  1628\n",
      "Completed subject:  1629\n",
      "Completed subject:  1630\n",
      "Completed subject:  1631\n",
      "Completed subject:  1632\n",
      "Completed subject:  1633\n",
      "Completed subject:  1634\n",
      "Completed subject:  1635\n",
      "Completed subject:  1636\n",
      "Completed subject:  1637\n",
      "Completed subject:  1638\n",
      "Completed subject:  1639\n",
      "Completed subject:  1640\n",
      "Completed subject:  1641\n",
      "Completed subject:  1642\n",
      "Completed subject:  1643\n",
      "Completed subject:  1644\n",
      "Completed subject:  1645\n",
      "Completed subject:  1646\n",
      "Completed subject:  1647\n",
      "Completed subject:  1648\n",
      "Completed subject:  1649\n",
      "Completed subject:  1650\n"
     ]
    }
   ],
   "source": [
    "output_df = parse_data(1600, 1650, '../data/watch')"
   ]
  },
  {
   "cell_type": "code",
   "execution_count": 5,
   "metadata": {},
   "outputs": [],
   "source": [
    "train_df, test_df = train_test_split_on_users(output_df, 0.7)"
   ]
  },
  {
   "cell_type": "code",
   "execution_count": 6,
   "metadata": {},
   "outputs": [],
   "source": [
    "def save_pickle(variable, path):\n",
    "        output_file = open(path, 'wb')\n",
    "        pickle.dump(variable, output_file)\n",
    "        output_file.close()"
   ]
  },
  {
   "cell_type": "code",
   "execution_count": 7,
   "metadata": {},
   "outputs": [],
   "source": [
    "save_pickle(train_df, '../data/watch/processed_data/train_df.pkl')\n",
    "save_pickle(test_df, '../data/watch/processed_data/test_df.pkl')"
   ]
  },
  {
   "cell_type": "code",
   "execution_count": null,
   "metadata": {},
   "outputs": [],
   "source": []
  }
 ],
 "metadata": {
  "kernelspec": {
   "display_name": "Python 3",
   "language": "python",
   "name": "python3"
  },
  "language_info": {
   "codemirror_mode": {
    "name": "ipython",
    "version": 3
   },
   "file_extension": ".py",
   "mimetype": "text/x-python",
   "name": "python",
   "nbconvert_exporter": "python",
   "pygments_lexer": "ipython3",
   "version": "3.8.3"
  }
 },
 "nbformat": 4,
 "nbformat_minor": 4
}
