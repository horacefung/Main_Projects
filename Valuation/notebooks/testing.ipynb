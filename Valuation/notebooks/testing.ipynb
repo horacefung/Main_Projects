{
 "cells": [
  {
   "cell_type": "markdown",
   "metadata": {},
   "source": [
    "# Test"
   ]
  },
  {
   "cell_type": "code",
   "execution_count": 16,
   "metadata": {},
   "outputs": [],
   "source": [
    "from sklearn.linear_model import LinearRegression\n",
    "from sklearn.metrics import r2_score\n",
    "import pandas as pd"
   ]
  },
  {
   "cell_type": "code",
   "execution_count": 20,
   "metadata": {},
   "outputs": [],
   "source": [
    "company_returns = [0.1, 0.2, -0.1, 0.01, 0.2, 0.3, 0.4]\n",
    "market_erp = [0.1, 0.1, -0.2, 0.01, 0.05, 0.1, 0.05]\n",
    "china_erp = [0.0, 0.2, -0.1, 0.02, 0.15, 0.10, 0.25]\n",
    "brazil_erp = [0.1, 0.1, -0.05, 0.01, 0.1, 0.15, 0.18]\n",
    "\n",
    "\n",
    "test_df = pd.DataFrame({'firm_returns' : company_returns,\n",
    "                       'market_erp' : market_erp,\n",
    "                       'china_erp' : china_erp,\n",
    "                       'brazil_erp' : brazil_erp})"
   ]
  },
  {
   "cell_type": "code",
   "execution_count": 21,
   "metadata": {},
   "outputs": [],
   "source": [
    "if test_df.columns[0] != 'firm_returns':\n",
    "    print('First column should be company returns')\n",
    "elif test_df.columns[1] != 'market_erp':\n",
    "    print('Second column should be market erp')\n",
    "else:\n",
    "    None"
   ]
  },
  {
   "cell_type": "code",
   "execution_count": 22,
   "metadata": {},
   "outputs": [],
   "source": [
    "X = test_df.iloc[:, 1:]\n",
    "y = test_df.iloc[:, 0]"
   ]
  },
  {
   "cell_type": "code",
   "execution_count": 24,
   "metadata": {},
   "outputs": [],
   "source": [
    "reg = LinearRegression().fit(X, y)\n",
    "y_hat = reg.predict(X)\n",
    "r2 = r2_score(y, y_hat)\n",
    "adj_r2 = 1-(1-r2)*(len(X)-1)/(len(X)-len(X.columns)-1)"
   ]
  },
  {
   "cell_type": "code",
   "execution_count": 15,
   "metadata": {},
   "outputs": [
    {
     "data": {
      "text/plain": [
       "array([-0.36965204,  0.5028531 ,  1.71509378])"
      ]
     },
     "execution_count": 15,
     "metadata": {},
     "output_type": "execute_result"
    }
   ],
   "source": [
    "reg.coef_"
   ]
  },
  {
   "cell_type": "code",
   "execution_count": 18,
   "metadata": {},
   "outputs": [
    {
     "data": {
      "text/plain": [
       "array([ 0.10433342,  0.20490404, -0.09232035, -0.00669928,  0.19824399,\n",
       "        0.31580138,  0.3857368 ])"
      ]
     },
     "execution_count": 18,
     "metadata": {},
     "output_type": "execute_result"
    }
   ],
   "source": [
    "y_hat"
   ]
  },
  {
   "cell_type": "code",
   "execution_count": null,
   "metadata": {},
   "outputs": [],
   "source": []
  }
 ],
 "metadata": {
  "kernelspec": {
   "display_name": "Python 3",
   "language": "python",
   "name": "python3"
  },
  "language_info": {
   "codemirror_mode": {
    "name": "ipython",
    "version": 3
   },
   "file_extension": ".py",
   "mimetype": "text/x-python",
   "name": "python",
   "nbconvert_exporter": "python",
   "pygments_lexer": "ipython3",
   "version": "3.8.3"
  }
 },
 "nbformat": 4,
 "nbformat_minor": 4
}
