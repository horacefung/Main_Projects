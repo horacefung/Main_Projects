{
 "cells": [
  {
   "cell_type": "markdown",
   "metadata": {},
   "source": [
    "### League of Legends: Spring 2020 Dataset\n",
    "\n",
    "This datasets contains all games across differnt professional League of Legends "
   ]
  },
  {
   "cell_type": "code",
   "execution_count": 1,
   "metadata": {
    "collapsed": true
   },
   "outputs": [],
   "source": [
    "#import packages\n",
    "import pandas as pd\n",
    "import requests\n",
    "import json\n",
    "import pickle\n",
    "from nltk.stem import PorterStemmer\n",
    "from nltk.corpus import stopwords\n",
    "from nltk.tokenize import word_tokenize \n",
    "from sklearn.preprocessing import MultiLabelBinarizer\n",
    "from sklearn.model_selection import train_test_split\n",
    "import numpy as np\n",
    "import pdb"
   ]
  },
  {
   "cell_type": "code",
   "execution_count": 2,
   "metadata": {
    "collapsed": true
   },
   "outputs": [],
   "source": [
    "#----Read competitve history data set for list of patches ----#\n",
    "patches = pd.read_csv('../data/2020 spring match data OraclesElixir 2020-05-15.csv')\n",
    "patches = list(set(patches['patch']))\n",
    "patches = [str(x) for x in patches]"
   ]
  },
  {
   "cell_type": "code",
   "execution_count": 3,
   "metadata": {
    "collapsed": true
   },
   "outputs": [],
   "source": [
    "def reformat_patch_number(patch):\n",
    "    patch_split = patch.split('.')\n",
    "    patch_split = [str(int(x)) for x in patch_split]\n",
    "    patch_output = patch_split[0] + '.' + patch_split[1] + '.1'\n",
    "    return(patch_output)\n",
    "    "
   ]
  },
  {
   "cell_type": "code",
   "execution_count": 4,
   "metadata": {
    "collapsed": true
   },
   "outputs": [],
   "source": [
    "patches = [reformat_patch_number(x) for x in patches]"
   ]
  },
  {
   "cell_type": "code",
   "execution_count": 5,
   "metadata": {
    "collapsed": true
   },
   "outputs": [],
   "source": [
    "#----- In case we need to use API ------#\n",
    "\n",
    "#One time api key creation\n",
    "file_name = '/Users/horacefung/Documents/keys/lol_api_key'\n",
    "#key = {'key':''} #don't show key\n",
    "#output = open(file_name,'wb')\n",
    "#pickle.dump(key, output)\n",
    "#output.close()\n",
    "\n",
    "input_file = open(file_name,'rb')\n",
    "api_key = pickle.load(input_file)['key']\n",
    "input_file.close()\n",
    "\n",
    "#api_root_url = \"https://www.googleapis.com/youtube/v3/videos?\"\n",
    "#url_params = \"part=snippet&type=video&chart=mostPopular\"\n",
    "\n",
    "#url = api_root_url + url_params + api_key\n",
    "#data = requests.get(url).json()"
   ]
  },
  {
   "cell_type": "markdown",
   "metadata": {},
   "source": [
    "### Champion Data\n",
    "\n",
    "Retreive and format champion data for each relevant patch"
   ]
  },
  {
   "cell_type": "code",
   "execution_count": 6,
   "metadata": {
    "collapsed": true
   },
   "outputs": [],
   "source": [
    "#----- Pull champion list -----#\n",
    "url = 'http://ddragon.leagueoflegends.com/cdn/' + patches[-1] + '/data/en_US/champion.json'\n",
    "data = requests.get(url).json()\n",
    "champion_list = list(data['data'].keys())"
   ]
  },
  {
   "cell_type": "code",
   "execution_count": 7,
   "metadata": {
    "collapsed": true
   },
   "outputs": [],
   "source": [
    "def extract_data(champion, champion_name, patch):\n",
    "    \n",
    "    #Initialize porter object\n",
    "    porter = PorterStemmer()\n",
    "    \n",
    "    #Split into base stats & spells & classes\n",
    "    stats = champion['stats']\n",
    "    passive = champion['passive']\n",
    "    spells = champion['spells']\n",
    "    classes = champion['tags']\n",
    "    \n",
    "    #Make sure even single class champions have type list\n",
    "    if type(classes) == 'str':\n",
    "        classes = [classes]\n",
    "    \n",
    "    #Keywords\n",
    "    hard_cc_list = ['airborne', 'charm', 'flee', 'taunt', 'sleep', 'stun', 'supression', 'suspension', \n",
    "                    'stasis', 'pull', 'knock']\n",
    "    soft_cc_list = ['blind', 'cripple', 'disarm', 'ground', 'knockdown', 'nearsight', 'root', 'silence', 'slow']\n",
    "    gap_closer_list = ['dash', 'blink', 'leap', 'launch', 'movementspeed', 'teleport']\n",
    "    vision_list = ['vision', 'sight']\n",
    "    protection_list = ['shield', 'heal']\n",
    "    \n",
    "    #initialize variables\n",
    "    hard_cc_value = 0\n",
    "    soft_cc_value = 0\n",
    "    spells_average_range_value = 0\n",
    "    gap_closer_value = 0\n",
    "    protection_value = 0\n",
    "    \n",
    "    #Passive\n",
    "    passive = passive['description']\n",
    "    passive = passive.lower()\n",
    "    passive = passive.replace('movement speed', 'movementspeed') #specific logic for move speed\n",
    "    passive = [porter.stem(x) for x in word_tokenize(passive)]\n",
    "    hard_cc = len(list(set(passive) & set(hard_cc_list))) #unique key words\n",
    "    soft_cc = len(list(set(passive) & set(soft_cc_list))) #unique key words\n",
    "    protection = len(list(set(passive) & set(protection_list)))\n",
    "    gap_closer = len(list(set(passive) & set(gap_closer_list)))\n",
    "    \n",
    "    #Update talley with passive\n",
    "    hard_cc_value = hard_cc_value + hard_cc\n",
    "    soft_cc_value = soft_cc_value + soft_cc\n",
    "    protection_value = protection_value + protection\n",
    "    gap_closer_value = gap_closer_value + gap_closer\n",
    "    \n",
    "    \n",
    "    #Four spells\n",
    "    for i in range(4):\n",
    "        \n",
    "        #----Extract text information from tooltip\n",
    "        tooltip = spells[i]['tooltip'].lower()\n",
    "        tooltip = tooltip.replace('movement speed', 'movementspeed') #specific logic for move speed\n",
    "        tooltip = [porter.stem(x) for x in word_tokenize(tooltip)]\n",
    "        hard_cc = len(list(set(tooltip) & set(hard_cc_list))) #unique key words\n",
    "        soft_cc = len(list(set(tooltip) & set(soft_cc_list))) #unique key words\n",
    "        protection = len(list(set(tooltip) & set(protection_list)))\n",
    "        gap_closer = len(list(set(tooltip) & set(gap_closer_list)))\n",
    "        spells_range = np.mean(spells[i]['range'])\n",
    "        \n",
    "        #Update talley\n",
    "        hard_cc_value = hard_cc_value + hard_cc\n",
    "        soft_cc_value = soft_cc_value + soft_cc\n",
    "        protection_value = protection_value + protection\n",
    "        gap_closer_value = gap_closer_value + gap_closer\n",
    "        spells_average_range_value = np.mean([spells_average_range_value, spells_range])\n",
    "        \n",
    "    #\n",
    "    \n",
    "    #-----Setup Dataframe---------#\n",
    "    dict_temp = {'champion' : champion_name,\n",
    "                 'patch' : patch,\n",
    "                 'hard_cc_value' : hard_cc_value, \n",
    "                 'soft_cc_value' : soft_cc_value,\n",
    "                 'spells_average_range_value' : spells_average_range_value,\n",
    "                 'gap_closer_value' : gap_closer_value,\n",
    "                 'protection_value' : protection_value,\n",
    "                 'classes': [classes]} #make this a list\n",
    "    \n",
    "    dict_temp = {**stats, **dict_temp}\n",
    "    \n",
    "    output_df = pd.DataFrame(dict_temp, index = [0])\n",
    "    output_df = output_df.set_index(['champion', 'patch'])\n",
    "    \n",
    "    \n",
    "    return(output_df)"
   ]
  },
  {
   "cell_type": "code",
   "execution_count": 8,
   "metadata": {
    "collapsed": true
   },
   "outputs": [],
   "source": [
    "#----- Pull Relevant Champion Patch Data ---------#\n",
    "def data_pull(patches, champion_list):\n",
    "    \n",
    "    champion_output = pd.DataFrame()\n",
    "    loops = len(patches)\n",
    "    counter = 0\n",
    "    \n",
    "    for patch in patches:\n",
    "        \n",
    "        for champion in champion_list:\n",
    "            url = 'http://ddragon.leagueoflegends.com/cdn/{}/data/en_US/champion/{}.json'.format(patch, champion)\n",
    "            \n",
    "            try:\n",
    "                data = requests.get(url).json()\n",
    "                data = data['data'][champion]\n",
    "                champion = extract_data(data, champion, patch)\n",
    "                champion_output = pd.concat([champion_output, champion])\n",
    "                #print('Added:' + champion)\n",
    "                #print(champion)\n",
    "            except:\n",
    "                continue\n",
    "                #print('Request failed')\n",
    "                #do nothing if champion not in this patch, e.g. new releases\n",
    "        \n",
    "        counter = counter + 1\n",
    "        print('Completed patch: ' + patch + ' | ' + str(counter) + '/' + str(loops))\n",
    "    \n",
    "    champion_output = champion_output.reset_index()\n",
    "    \n",
    "    #One-hot encode champion classes. This function is pretty sweet\n",
    "    mlb = MultiLabelBinarizer()\n",
    "    champion_output = champion_output.join(pd.DataFrame(mlb.fit_transform(champion_output.pop('classes')),\n",
    "                                                        columns=mlb.classes_,\n",
    "                                                        index=champion_output.index))\n",
    "    \n",
    "    \n",
    "    \n",
    "    return(champion_output)"
   ]
  },
  {
   "cell_type": "code",
   "execution_count": 9,
   "metadata": {},
   "outputs": [
    {
     "name": "stdout",
     "output_type": "stream",
     "text": [
      "Completed patch: 10.4.1 | 1/8\n",
      "Completed patch: 10.6.1 | 2/8\n",
      "Completed patch: 10.1.1 | 3/8\n",
      "Completed patch: 10.2.1 | 4/8\n",
      "Completed patch: 10.3.1 | 5/8\n",
      "Completed patch: 10.5.1 | 6/8\n",
      "Completed patch: 10.7.1 | 7/8\n",
      "Completed patch: 10.8.1 | 8/8\n"
     ]
    }
   ],
   "source": [
    "champion_dataset = data_pull(patches, champion_list)"
   ]
  },
  {
   "cell_type": "code",
   "execution_count": 20,
   "metadata": {},
   "outputs": [
    {
     "data": {
      "text/html": [
       "<div>\n",
       "<style scoped>\n",
       "    .dataframe tbody tr th:only-of-type {\n",
       "        vertical-align: middle;\n",
       "    }\n",
       "\n",
       "    .dataframe tbody tr th {\n",
       "        vertical-align: top;\n",
       "    }\n",
       "\n",
       "    .dataframe thead th {\n",
       "        text-align: right;\n",
       "    }\n",
       "</style>\n",
       "<table border=\"1\" class=\"dataframe\">\n",
       "  <thead>\n",
       "    <tr style=\"text-align: right;\">\n",
       "      <th></th>\n",
       "      <th>champion</th>\n",
       "      <th>patch</th>\n",
       "      <th>armor</th>\n",
       "      <th>armorperlevel</th>\n",
       "      <th>attackdamage</th>\n",
       "      <th>attackdamageperlevel</th>\n",
       "      <th>attackrange</th>\n",
       "      <th>attackspeed</th>\n",
       "      <th>attackspeedperlevel</th>\n",
       "      <th>crit</th>\n",
       "      <th>...</th>\n",
       "      <th>soft_cc_value</th>\n",
       "      <th>spellblock</th>\n",
       "      <th>spellblockperlevel</th>\n",
       "      <th>spells_average_range_value</th>\n",
       "      <th>Assassin</th>\n",
       "      <th>Fighter</th>\n",
       "      <th>Mage</th>\n",
       "      <th>Marksman</th>\n",
       "      <th>Support</th>\n",
       "      <th>Tank</th>\n",
       "    </tr>\n",
       "  </thead>\n",
       "  <tbody>\n",
       "    <tr>\n",
       "      <th>0</th>\n",
       "      <td>Evelynn</td>\n",
       "      <td>10.4.1</td>\n",
       "      <td>37.0</td>\n",
       "      <td>3.5</td>\n",
       "      <td>61.00</td>\n",
       "      <td>3.0</td>\n",
       "      <td>125</td>\n",
       "      <td>0.667</td>\n",
       "      <td>2.10</td>\n",
       "      <td>0</td>\n",
       "      <td>...</td>\n",
       "      <td>1</td>\n",
       "      <td>32.1</td>\n",
       "      <td>1.25</td>\n",
       "      <td>12777.500</td>\n",
       "      <td>1</td>\n",
       "      <td>0</td>\n",
       "      <td>1</td>\n",
       "      <td>0</td>\n",
       "      <td>0</td>\n",
       "      <td>0</td>\n",
       "    </tr>\n",
       "    <tr>\n",
       "      <th>1</th>\n",
       "      <td>JarvanIV</td>\n",
       "      <td>10.4.1</td>\n",
       "      <td>34.0</td>\n",
       "      <td>3.6</td>\n",
       "      <td>64.00</td>\n",
       "      <td>3.4</td>\n",
       "      <td>175</td>\n",
       "      <td>0.658</td>\n",
       "      <td>2.50</td>\n",
       "      <td>0</td>\n",
       "      <td>...</td>\n",
       "      <td>1</td>\n",
       "      <td>32.1</td>\n",
       "      <td>1.25</td>\n",
       "      <td>666.250</td>\n",
       "      <td>0</td>\n",
       "      <td>1</td>\n",
       "      <td>0</td>\n",
       "      <td>0</td>\n",
       "      <td>0</td>\n",
       "      <td>1</td>\n",
       "    </tr>\n",
       "    <tr>\n",
       "      <th>2</th>\n",
       "      <td>Kalista</td>\n",
       "      <td>10.4.1</td>\n",
       "      <td>23.0</td>\n",
       "      <td>4.0</td>\n",
       "      <td>69.00</td>\n",
       "      <td>4.0</td>\n",
       "      <td>525</td>\n",
       "      <td>0.694</td>\n",
       "      <td>4.00</td>\n",
       "      <td>0</td>\n",
       "      <td>...</td>\n",
       "      <td>1</td>\n",
       "      <td>30.0</td>\n",
       "      <td>0.50</td>\n",
       "      <td>1446.875</td>\n",
       "      <td>0</td>\n",
       "      <td>0</td>\n",
       "      <td>0</td>\n",
       "      <td>1</td>\n",
       "      <td>0</td>\n",
       "      <td>0</td>\n",
       "    </tr>\n",
       "    <tr>\n",
       "      <th>3</th>\n",
       "      <td>Zilean</td>\n",
       "      <td>10.4.1</td>\n",
       "      <td>24.0</td>\n",
       "      <td>3.8</td>\n",
       "      <td>51.64</td>\n",
       "      <td>3.0</td>\n",
       "      <td>550</td>\n",
       "      <td>0.625</td>\n",
       "      <td>2.13</td>\n",
       "      <td>0</td>\n",
       "      <td>...</td>\n",
       "      <td>1</td>\n",
       "      <td>30.0</td>\n",
       "      <td>0.50</td>\n",
       "      <td>718.750</td>\n",
       "      <td>0</td>\n",
       "      <td>0</td>\n",
       "      <td>1</td>\n",
       "      <td>0</td>\n",
       "      <td>1</td>\n",
       "      <td>0</td>\n",
       "    </tr>\n",
       "    <tr>\n",
       "      <th>4</th>\n",
       "      <td>Jhin</td>\n",
       "      <td>10.4.1</td>\n",
       "      <td>24.0</td>\n",
       "      <td>3.5</td>\n",
       "      <td>59.00</td>\n",
       "      <td>4.7</td>\n",
       "      <td>550</td>\n",
       "      <td>0.625</td>\n",
       "      <td>0.00</td>\n",
       "      <td>0</td>\n",
       "      <td>...</td>\n",
       "      <td>3</td>\n",
       "      <td>30.0</td>\n",
       "      <td>0.50</td>\n",
       "      <td>13096.875</td>\n",
       "      <td>0</td>\n",
       "      <td>0</td>\n",
       "      <td>1</td>\n",
       "      <td>1</td>\n",
       "      <td>0</td>\n",
       "      <td>0</td>\n",
       "    </tr>\n",
       "  </tbody>\n",
       "</table>\n",
       "<p>5 rows × 33 columns</p>\n",
       "</div>"
      ],
      "text/plain": [
       "   champion   patch  armor  armorperlevel  attackdamage  attackdamageperlevel  \\\n",
       "0   Evelynn  10.4.1   37.0            3.5         61.00                   3.0   \n",
       "1  JarvanIV  10.4.1   34.0            3.6         64.00                   3.4   \n",
       "2   Kalista  10.4.1   23.0            4.0         69.00                   4.0   \n",
       "3    Zilean  10.4.1   24.0            3.8         51.64                   3.0   \n",
       "4      Jhin  10.4.1   24.0            3.5         59.00                   4.7   \n",
       "\n",
       "   attackrange  attackspeed  attackspeedperlevel  crit  ...   soft_cc_value  \\\n",
       "0          125        0.667                 2.10     0  ...               1   \n",
       "1          175        0.658                 2.50     0  ...               1   \n",
       "2          525        0.694                 4.00     0  ...               1   \n",
       "3          550        0.625                 2.13     0  ...               1   \n",
       "4          550        0.625                 0.00     0  ...               3   \n",
       "\n",
       "   spellblock  spellblockperlevel  spells_average_range_value  Assassin  \\\n",
       "0        32.1                1.25                   12777.500         1   \n",
       "1        32.1                1.25                     666.250         0   \n",
       "2        30.0                0.50                    1446.875         0   \n",
       "3        30.0                0.50                     718.750         0   \n",
       "4        30.0                0.50                   13096.875         0   \n",
       "\n",
       "   Fighter  Mage  Marksman  Support  Tank  \n",
       "0        0     1         0        0     0  \n",
       "1        1     0         0        0     1  \n",
       "2        0     0         1        0     0  \n",
       "3        0     1         0        1     0  \n",
       "4        0     1         1        0     0  \n",
       "\n",
       "[5 rows x 33 columns]"
      ]
     },
     "execution_count": 20,
     "metadata": {},
     "output_type": "execute_result"
    }
   ],
   "source": [
    "champion_dataset.head()"
   ]
  },
  {
   "cell_type": "code",
   "execution_count": 5,
   "metadata": {
    "collapsed": true
   },
   "outputs": [],
   "source": [
    "#---- Pickle Patch Data -----#\n",
    "file_name = '../data/patch_notes.pickle'\n",
    "#output = open(file_name,'wb')\n",
    "#pickle.dump(champion_dataset, output)\n",
    "#output.close()\n",
    "\n",
    "input_file = open(file_name,'rb')\n",
    "champion_dataset = pickle.load(input_file)\n",
    "input_file.close()"
   ]
  },
  {
   "cell_type": "code",
   "execution_count": 18,
   "metadata": {
    "collapsed": true
   },
   "outputs": [],
   "source": [
    "match_data = pd.read_csv('../data/2020 spring match data OraclesElixir 2020-05-15.csv')"
   ]
  },
  {
   "cell_type": "code",
   "execution_count": 19,
   "metadata": {
    "collapsed": true
   },
   "outputs": [],
   "source": [
    "columns = ['date','gameid', 'patch','side', 'position', 'player','champion','ban1', 'ban2', 'ban3', 'ban4', 'ban5',\n",
    "           'gamelength','kills', 'deaths', 'assists', 'damagetochampions','wardsplaced', 'wardskilled', 'totalgold',\n",
    "           'total cs', 'monsterkills', 'result']\n",
    "\n",
    "player_data = match_data[columns]\n",
    "player_data = player_data.rename(columns = {'total cs' : 'total_cs'})\n",
    "player_data = player_data[player_data['position'] != 'team']\n",
    "player_data = player_data.sort_values(['player', 'date'], ascending = True)"
   ]
  },
  {
   "cell_type": "code",
   "execution_count": 8,
   "metadata": {
    "collapsed": true
   },
   "outputs": [],
   "source": [
    "#player_data = player_data['date', 'gameid','player','kills', 'deaths', 'assists', 'damagetochampions', 'wardsplaced', \n",
    "#                          'wardskilled', 'totalgold', 'total_cs','monsterkills']\n",
    "\n",
    "#player_data = match_data.sort_values(['player', 'date'], ascending = True)\n",
    "#player_data = player_data.groupby('object').rolling(10)['value'].mean()"
   ]
  },
  {
   "cell_type": "code",
   "execution_count": 9,
   "metadata": {
    "collapsed": true
   },
   "outputs": [],
   "source": [
    "def create_player_profile(player_df, window):\n",
    "    \n",
    "    #We will use a moving average based on the window.\n",
    "    #Treat this as time dependent, \n",
    "    player_df = player_df[['date', 'gameid','player', 'position', 'side', 'champion', 'patch','kills','deaths',\n",
    "                           'assists', 'damagetochampions', 'wardsplaced', 'wardskilled', 'totalgold', \n",
    "                           'total_cs','monsterkills']]\n",
    "    \n",
    "    player_df = player_df.sort_values(['player', 'date'], ascending = True)\n",
    "    player_df = player_df.reset_index(drop=True) #need to drop index in new pandas version for groupby mean \n",
    "    \n",
    "    #Values fields\n",
    "    value_fields = ['player','kills', 'deaths', 'assists', 'damagetochampions','wardsplaced', 'wardskilled',\n",
    "                    'totalgold', 'total_cs','monsterkills']\n",
    "    player_df2 = player_df[value_fields]\n",
    "    player_df2= player_df2.groupby(['player']).rolling(window).mean().shift(-window+1).reset_index().fillna(method = 'ffill')\n",
    "    player_df2 = player_df2.drop('level_1', axis = 1)\n",
    "    \n",
    "    #Recombine\n",
    "    player_df = player_df[['date', 'gameid', 'position', 'side', 'champion', 'patch']]\n",
    "    player_df = pd.concat([player_df, player_df2], axis = 1)\n",
    "    #player_df = player_df.set_index(['champion', 'patch'])\n",
    "    \n",
    "    player_df['patch'] = player_df['patch'].apply(lambda x : reformat_patch_number(str(x)))\n",
    "    \n",
    "    return(player_df)"
   ]
  },
  {
   "cell_type": "code",
   "execution_count": 10,
   "metadata": {
    "collapsed": true
   },
   "outputs": [],
   "source": [
    "player_profiles = create_player_profile(player_data, window = 3)"
   ]
  },
  {
   "cell_type": "markdown",
   "metadata": {},
   "source": [
    "### Combine with champions data to create complete stage-1 dataset, before further engineering\n",
    "\n",
    "1. Join the player-game data with their respective champion-patch data\n",
    "2. Create red vs blue split for each game, and build our blue minus red deltas"
   ]
  },
  {
   "cell_type": "code",
   "execution_count": 11,
   "metadata": {
    "collapsed": true
   },
   "outputs": [],
   "source": [
    "player_profiles = pd.merge(player_profiles, champion_dataset, how = 'left', \n",
    "                           left_on = ['champion', 'patch'], right_on = ['champion', 'patch'])"
   ]
  },
  {
   "cell_type": "code",
   "execution_count": 12,
   "metadata": {},
   "outputs": [
    {
     "data": {
      "text/plain": [
       "Index(['date', 'gameid', 'position', 'side', 'champion', 'patch', 'player',\n",
       "       'assists', 'damagetochampions', 'deaths', 'kills', 'monsterkills',\n",
       "       'total_cs', 'totalgold', 'wardskilled', 'wardsplaced', 'armor',\n",
       "       'armorperlevel', 'attackdamage', 'attackdamageperlevel', 'attackrange',\n",
       "       'attackspeed', 'attackspeedperlevel', 'crit', 'critperlevel',\n",
       "       'gap_closer_value', 'hard_cc_value', 'hp', 'hpperlevel', 'hpregen',\n",
       "       'hpregenperlevel', 'movespeed', 'mp', 'mpperlevel', 'mpregen',\n",
       "       'mpregenperlevel', 'protection_value', 'soft_cc_value', 'spellblock',\n",
       "       'spellblockperlevel', 'spells_average_range_value', 'Assassin',\n",
       "       'Fighter', 'Mage', 'Marksman', 'Support', 'Tank'],\n",
       "      dtype='object')"
      ]
     },
     "execution_count": 12,
     "metadata": {},
     "output_type": "execute_result"
    }
   ],
   "source": [
    "player_profiles.columns"
   ]
  },
  {
   "cell_type": "code",
   "execution_count": 13,
   "metadata": {
    "collapsed": true
   },
   "outputs": [],
   "source": [
    "def head_to_head(df):\n",
    "    \n",
    "    #Split into blue and red\n",
    "    blue = df[df['side'] == 'Blue']\n",
    "    red = df[df['side'] == 'Red']\n",
    "    \n",
    "    blue = blue.drop('side', axis = 1)\n",
    "    red = red.drop('side', axis = 1)\n",
    "    \n",
    "    blue = blue.set_index(['gameid', 'position', 'date'])\n",
    "    red = red.set_index(['gameid', 'position', 'date'])\n",
    "    \n",
    "    #Rename red columns\n",
    "    original_columns = red.columns\n",
    "    red_columns = ['red_' + x for x in original_columns]\n",
    "    red.columns = red_columns\n",
    "    \n",
    "    #Merge\n",
    "    blue = pd.merge(blue, red, how = 'left', left_index = True, right_index = True)\n",
    "    \n",
    "    #Create delta columns\n",
    "    delta_columns = []\n",
    "    for column in original_columns:\n",
    "        column_name = 'delta_' + column\n",
    "        blue[column_name] = blue[column] - blue['red_' + column]\n",
    "        delta_columns = delta_columns + [column_name]\n",
    "        \n",
    "    blue = blue[delta_columns]\n",
    "    \n",
    "    #Sum up for now\n",
    "    blue = blue.reset_index()\n",
    "    blue = blue.drop(['position', 'date'], axis = 1)\n",
    "    blue = blue.groupby(['gameid']).sum()\n",
    "    \n",
    "    return(blue)\n",
    "    \n",
    "    "
   ]
  },
  {
   "cell_type": "code",
   "execution_count": 14,
   "metadata": {
    "collapsed": true
   },
   "outputs": [],
   "source": [
    "player_profiles2 = player_profiles.drop(['champion', 'patch', 'player'], axis = 1)"
   ]
  },
  {
   "cell_type": "code",
   "execution_count": 15,
   "metadata": {
    "collapsed": true
   },
   "outputs": [],
   "source": [
    "head_to_head_output = head_to_head(player_profiles2)"
   ]
  },
  {
   "cell_type": "code",
   "execution_count": 16,
   "metadata": {},
   "outputs": [
    {
     "data": {
      "text/plain": [
       "Index(['delta_assists', 'delta_damagetochampions', 'delta_deaths',\n",
       "       'delta_kills', 'delta_monsterkills', 'delta_total_cs',\n",
       "       'delta_totalgold', 'delta_wardskilled', 'delta_wardsplaced',\n",
       "       'delta_armor', 'delta_armorperlevel', 'delta_attackdamage',\n",
       "       'delta_attackdamageperlevel', 'delta_attackrange', 'delta_attackspeed',\n",
       "       'delta_attackspeedperlevel', 'delta_crit', 'delta_critperlevel',\n",
       "       'delta_gap_closer_value', 'delta_hard_cc_value', 'delta_hp',\n",
       "       'delta_hpperlevel', 'delta_hpregen', 'delta_hpregenperlevel',\n",
       "       'delta_movespeed', 'delta_mp', 'delta_mpperlevel', 'delta_mpregen',\n",
       "       'delta_mpregenperlevel', 'delta_protection_value',\n",
       "       'delta_soft_cc_value', 'delta_spellblock', 'delta_spellblockperlevel',\n",
       "       'delta_spells_average_range_value', 'delta_Assassin', 'delta_Fighter',\n",
       "       'delta_Mage', 'delta_Marksman', 'delta_Support', 'delta_Tank'],\n",
       "      dtype='object')"
      ]
     },
     "execution_count": 16,
     "metadata": {},
     "output_type": "execute_result"
    }
   ],
   "source": [
    "head_to_head_output.columns"
   ]
  },
  {
   "cell_type": "markdown",
   "metadata": {},
   "source": [
    "### Merge back match data to get results (and other fields)"
   ]
  },
  {
   "cell_type": "code",
   "execution_count": 26,
   "metadata": {},
   "outputs": [],
   "source": [
    "target_and_others = match_data[['gameid', 'side', 'result', 'gamelength']]\n",
    "target_and_others = target_and_others[(target_and_others['side'] == 'Blue')].drop('side', axis = 1).drop_duplicates()\n",
    "final = pd.merge(head_to_head_output, target_and_others, how = 'left', left_on = 'gameid', right_on = 'gameid')"
   ]
  },
  {
   "cell_type": "code",
   "execution_count": 27,
   "metadata": {
    "collapsed": true
   },
   "outputs": [],
   "source": [
    "x = final[final.columns[~final.columns.isin(['result'])]]\n",
    "y = final['result']"
   ]
  },
  {
   "cell_type": "code",
   "execution_count": 28,
   "metadata": {},
   "outputs": [],
   "source": [
    "x_train, x_test, y_train, y_test = train_test_split(x, y, test_size = 0.2, random_state = 0)"
   ]
  },
  {
   "cell_type": "code",
   "execution_count": 29,
   "metadata": {
    "collapsed": true
   },
   "outputs": [],
   "source": [
    "#---- Pickle Patch Data -----#\n",
    "file_name = '../data/x_train.pickle'\n",
    "output = open(file_name,'wb')\n",
    "pickle.dump(x_train, output)\n",
    "output.close()\n",
    "\n",
    "file_name = '../data/x_test.pickle'\n",
    "output = open(file_name,'wb')\n",
    "pickle.dump(x_test, output)\n",
    "output.close()\n",
    "\n",
    "file_name = '../data/y_train.pickle'\n",
    "output = open(file_name,'wb')\n",
    "pickle.dump(y_train, output)\n",
    "output.close()\n",
    "\n",
    "file_name = '../data/y_test.pickle'\n",
    "output = open(file_name,'wb')\n",
    "pickle.dump(y_test, output)\n",
    "output.close()"
   ]
  },
  {
   "cell_type": "code",
   "execution_count": null,
   "metadata": {
    "collapsed": true
   },
   "outputs": [],
   "source": []
  }
 ],
 "metadata": {
  "anaconda-cloud": {},
  "kernelspec": {
   "display_name": "Python [conda env:anaconda]",
   "language": "python",
   "name": "conda-env-anaconda-py"
  },
  "language_info": {
   "codemirror_mode": {
    "name": "ipython",
    "version": 3
   },
   "file_extension": ".py",
   "mimetype": "text/x-python",
   "name": "python",
   "nbconvert_exporter": "python",
   "pygments_lexer": "ipython3",
   "version": "3.5.2"
  }
 },
 "nbformat": 4,
 "nbformat_minor": 2
}
