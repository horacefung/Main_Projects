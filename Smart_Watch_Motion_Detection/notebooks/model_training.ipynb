{
 "cells": [
  {
   "cell_type": "code",
   "execution_count": 60,
   "metadata": {},
   "outputs": [],
   "source": [
    "import pickle\n",
    "import pandas as pd\n",
    "import numpy as np\n",
    "import scipy.stats\n",
    "import statsmodels.api as sm\n",
    "import statsmodels.tsa as tsa\n",
    "from sklearn import preprocessing\n",
    "from sklearn.model_selection import train_test_split\n",
    "import seaborn as sns\n",
    "import math\n",
    "import matplotlib.pyplot as plt\n",
    "from sklearn.decomposition import PCA\n",
    "from sklearn.linear_model import LogisticRegression\n",
    "from sklearn.tree import DecisionTreeClassifier\n",
    "from sklearn.ensemble import RandomForestClassifier\n",
    "from sklearn.ensemble import GradientBoostingClassifier\n",
    "from sklearn.pipeline import Pipeline\n",
    "from sklearn.model_selection import GridSearchCV\n",
    "from sklearn.metrics import roc_auc_score\n",
    "from sklearn.pipeline import FeatureUnion\n",
    "from sklearn.base import BaseEstimator, TransformerMixin\n",
    "from sklearn.model_selection import cross_val_score\n",
    "import pdb"
   ]
  },
  {
   "cell_type": "code",
   "execution_count": 69,
   "metadata": {},
   "outputs": [],
   "source": [
    "def read_pickle(path):\n",
    "    \n",
    "    input_file = open(path,'rb')\n",
    "    variable = pickle.load(input_file)\n",
    "    input_file.close()\n",
    "    return(variable)\n",
    "\n",
    "def downsample(df, downsample_step = 10):\n",
    "    \n",
    "    # Downsample\n",
    "    df['downsample'] = df['time_period'] % downsample_step\n",
    "    df = df[df['downsample'] == 0]\n",
    "    \n",
    "    return(df)"
   ]
  },
  {
   "cell_type": "code",
   "execution_count": 84,
   "metadata": {},
   "outputs": [
    {
     "data": {
      "text/plain": [
       "484378"
      ]
     },
     "execution_count": 84,
     "metadata": {},
     "output_type": "execute_result"
    }
   ],
   "source": [
    "# Read in data\n",
    "data = read_pickle('../data/watch/processed_data/train_df.pkl')\n",
    "\n",
    "# Downsample, we don't need that many observations\n",
    "data = downsample(data, downsample_step = 5)\n",
    "len(data)"
   ]
  },
  {
   "cell_type": "code",
   "execution_count": 85,
   "metadata": {},
   "outputs": [],
   "source": [
    "x = data.drop('is_exercise', axis = 1)\n",
    "y = data['is_exercise']\n",
    "x_train, x_test, y_train, y_test = train_test_split(x, y, test_size=0.2, random_state=0)"
   ]
  },
  {
   "cell_type": "code",
   "execution_count": 86,
   "metadata": {},
   "outputs": [],
   "source": [
    "#Plot ROC Curve\n",
    "def plot_roc_curve(fpr, tpr, label = None):\n",
    "    plt.plot(fpr, tpr, linewidth = 2, label = label)\n",
    "    plt.plot([0, 1], [0, 1], 'k--')\n",
    "    plt.axis([0, 1, 0, 1])\n",
    "    plt.xlabel('False Positive Rate')\n",
    "    plt.ylabel('True Positive Rate')\n",
    "    \n",
    "#Plot basic diagnostics\n",
    "def classification_diagnostics(model, x, y, standardize = True, classifier = True):\n",
    "    \n",
    "    fig, axs = plt.subplots(nrows = 1, ncols=2, figsize = (15,4))\n",
    "    \n",
    "    if classifier == True:\n",
    "        \n",
    "        y_hat = model.predict_proba(x)[:, 1]\n",
    "        residuals = y - y_hat\n",
    "        std_error = math.sqrt(np.var(residuals))\n",
    "        std_residuals = residuals/std_error\n",
    "        \n",
    "    else:\n",
    "        \n",
    "        y_hat = model.predict(x)\n",
    "        residuals = y_hat - y\n",
    "        std_error = math.sqrt(np.var(residuals))\n",
    "        std_residuals = residuals/std_error\n",
    "        \n",
    "    #Residual vs Fitted Plot\n",
    "    sns.regplot(y_hat, \n",
    "                std_residuals, \n",
    "                lowess=True,\n",
    "                line_kws={'color': 'red', 'lw': 1, 'alpha': 1},\n",
    "                ax = axs[0])\n",
    "    \n",
    "    #Histogram of residuals\n",
    "    sns.distplot(std_residuals, \n",
    "                hist=True,\n",
    "                ax = axs[1])\n",
    "    \n",
    "    #Labels\n",
    "    axs[0].set(xlabel=\"Fitted Values\", \n",
    "                ylabel=\"Pearson's Standardized Residuals\", \n",
    "                title = 'Residual vs Fitted')\n",
    "    \n",
    "    axs[1].set(xlabel=\"Fitted Values\", \n",
    "                ylabel=\"Frequency\", \n",
    "                title = \"Residuals Histogram\")"
   ]
  },
  {
   "cell_type": "code",
   "execution_count": 100,
   "metadata": {},
   "outputs": [],
   "source": [
    "class FeatureSelector(BaseEstimator, TransformerMixin):\n",
    "\n",
    "    def __init__(self, select_features):\n",
    "        self.select_features = select_features\n",
    "    \n",
    "    def fit(self, x_df, y=None):\n",
    "        return self\n",
    "    \n",
    "    def transform(self, x_df, y=None):\n",
    "        select_features = self.select_features\n",
    "        x_df = x_df[select_features]\n",
    "        return(x_df)\n",
    "\n",
    "    \n",
    "class ContinuousFeatureEngineering(BaseEstimator, TransformerMixin):\n",
    "    \n",
    "    # Initiate class\n",
    "    def __init__(self, window):\n",
    "        self.window = window\n",
    "        return None\n",
    "        \n",
    "    # We don't need to fit anything, so leave this as is\n",
    "    def fit(self, df, y=None):\n",
    "        return self\n",
    "    \n",
    "    # Perform our feature transformations\n",
    "    def transform(self, df, y=None):\n",
    "        \n",
    "        x_df = df.copy(deep = True)\n",
    "        \n",
    "        col_names = x_df.columns\n",
    "        \n",
    "        # Time-Series transformations\n",
    "        for col in col_names:\n",
    "            \n",
    "            # Box-Cox estimation\n",
    "            x_df[col] = x_df[col] - min(x_df[col]) + 0.0001\n",
    "            y, fitted_lambda = scipy.stats.boxcox(x_df[col],lmbda = None)\n",
    "        \n",
    "            # First difference, make first element nan, loss from differencing\n",
    "            y = np.append([np.nan], np.diff(y, n=1))\n",
    "            x_df[col] = y\n",
    "        \n",
    "        # Add volatility columns\n",
    "        for col in col_names:\n",
    "            x_df[col + '_vol'] = x_df[col].rolling(self.window).std()\n",
    "        \n",
    "        # Add moving average columns\n",
    "        for col in col_names:\n",
    "            x_df[col + '_ma'] = x_df[col].rolling(self.window).mean()\n",
    "        \n",
    "        # Fill nan values with mean\n",
    "        x_df = x_df.fillna(x_df.mean())\n",
    "        \n",
    "        # Standardize data\n",
    "        standard_scaler = preprocessing.StandardScaler()\n",
    "        x_df = standard_scaler.fit_transform(x_df)\n",
    "        \n",
    "        return x_df"
   ]
  },
  {
   "cell_type": "code",
   "execution_count": 101,
   "metadata": {},
   "outputs": [],
   "source": [
    "# ----Feature Pipeline ----#\n",
    "num_attributes = ['accel_x', 'accel_y', 'accel_z', 'gyro_x', 'gyro_y', 'gyro_z']\n",
    "window = 50\n",
    "\n",
    "numerical_pipeline = Pipeline([\n",
    "\n",
    "    ('FeatureSelector', FeatureSelector(num_attributes)),\n",
    "    ('FeatureEngineering', ContinuousFeatureEngineering(window))\n",
    "])"
   ]
  },
  {
   "cell_type": "code",
   "execution_count": 102,
   "metadata": {},
   "outputs": [],
   "source": [
    "check_pca = numerical_pipeline.fit_transform(x_train)"
   ]
  },
  {
   "cell_type": "code",
   "execution_count": 109,
   "metadata": {},
   "outputs": [
    {
     "data": {
      "text/plain": [
       "[<matplotlib.lines.Line2D at 0x7fd33d66a580>]"
      ]
     },
     "execution_count": 109,
     "metadata": {},
     "output_type": "execute_result"
    },
    {
     "data": {
      "image/png": "[encoded data removed]",
      "text/plain": [
       "<Figure size 720x504 with 1 Axes>"
      ]
     },
     "metadata": {},
     "output_type": "display_data"
    }
   ],
   "source": [
    "#Hmm seems like the features are quite different, let's not apply PCA for now\n",
    "pca = PCA() #use all components for now\n",
    "x_pca = pca.fit_transform(check_pca)\n",
    "sns.set_style(\"darkgrid\")\n",
    "fig, ax = plt.subplots(figsize=(10, 7))\n",
    "ax.set_title('Principal Component Analysis, 95% Line')\n",
    "ax.axhline(0.95, ls='--', color = 'red')\n",
    "plt.plot(np.cumsum(pca.explained_variance_ratio_))"
   ]
  },
  {
   "cell_type": "code",
   "execution_count": 110,
   "metadata": {},
   "outputs": [],
   "source": [
    "feature_pipeline = FeatureUnion([\n",
    "        ('numerical_pipeline', numerical_pipeline)\n",
    "    ])"
   ]
  },
  {
   "cell_type": "markdown",
   "metadata": {},
   "source": [
    "## Test some algorithms"
   ]
  },
  {
   "cell_type": "code",
   "execution_count": 111,
   "metadata": {},
   "outputs": [],
   "source": [
    "processed_x_train = feature_pipeline.fit_transform(x_train)\n",
    "proccessed_x_test = feature_pipeline.fit_transform(x_test)"
   ]
  },
  {
   "cell_type": "markdown",
   "metadata": {},
   "source": [
    "Logistic Regression"
   ]
  },
  {
   "cell_type": "code",
   "execution_count": 112,
   "metadata": {},
   "outputs": [
    {
     "name": "stdout",
     "output_type": "stream",
     "text": [
      "CV AUC Scores:  [0.6894047  0.67963689 0.68032382 0.68874934 0.6844411  0.68337725\n",
      " 0.69302413 0.69129808 0.68892053 0.69007576]\n",
      "Mean CV AUC Scores:  0.6869251605540981\n"
     ]
    }
   ],
   "source": [
    "log_model = LogisticRegression()\n",
    "log_model.fit(processed_x_train, y_train)\n",
    "scores = cross_val_score(log_model, processed_x_train, y_train,\n",
    "                        scoring = \"roc_auc\", cv = 10)\n",
    "print('CV AUC Scores: ', scores)\n",
    "print('Mean CV AUC Scores: ', np.mean(scores))"
   ]
  },
  {
   "cell_type": "code",
   "execution_count": 125,
   "metadata": {},
   "outputs": [
    {
     "data": {
      "text/plain": [
       "0.6865312156322877"
      ]
     },
     "execution_count": 125,
     "metadata": {},
     "output_type": "execute_result"
    }
   ],
   "source": [
    "predict = log_model.predict(proccessed_x_test)\n",
    "roc_auc_score(predict, y_test)"
   ]
  },
  {
   "cell_type": "markdown",
   "metadata": {},
   "source": [
    "CART Classifier"
   ]
  },
  {
   "cell_type": "code",
   "execution_count": 113,
   "metadata": {},
   "outputs": [
    {
     "name": "stdout",
     "output_type": "stream",
     "text": [
      "CV AUC Scores:  [0.83455949 0.83539533 0.83127895 0.83622092 0.83467801 0.83582839\n",
      " 0.83753394 0.83489763 0.83339751 0.83452795]\n",
      "Mean CV AUC Scores:  0.8348318122461234\n"
     ]
    }
   ],
   "source": [
    "cart_model = DecisionTreeClassifier(min_samples_leaf = 30) #blanket default, to avoid 1 observation per leaf\n",
    "cart_model.fit(processed_x_train, y_train)\n",
    "\n",
    "scores = cross_val_score(cart_model, processed_x_train, y_train,\n",
    "                        scoring = \"roc_auc\", cv = 10)\n",
    "print('CV AUC Scores: ', scores)\n",
    "print('Mean CV AUC Scores: ', np.mean(scores))"
   ]
  },
  {
   "cell_type": "code",
   "execution_count": 124,
   "metadata": {},
   "outputs": [
    {
     "data": {
      "text/plain": [
       "0.7551572491456423"
      ]
     },
     "execution_count": 124,
     "metadata": {},
     "output_type": "execute_result"
    }
   ],
   "source": [
    "predict = cart_model.predict(proccessed_x_test)\n",
    "roc_auc_score(predict, y_test)"
   ]
  },
  {
   "cell_type": "code",
   "execution_count": 116,
   "metadata": {},
   "outputs": [
    {
     "name": "stderr",
     "output_type": "stream",
     "text": [
      "[Parallel(n_jobs=-1)]: Using backend ThreadingBackend with 8 concurrent workers.\n"
     ]
    },
    {
     "name": "stdout",
     "output_type": "stream",
     "text": [
      "building tree 1 of 100\n",
      "building tree 2 of 100\n",
      "building tree 3 of 100building tree 4 of 100building tree 5 of 100\n",
      "building tree 6 of 100\n",
      "\n",
      "building tree 7 of 100building tree 8 of 100\n",
      "\n",
      "\n",
      "building tree 9 of 100\n",
      "building tree 10 of 100\n",
      "building tree 11 of 100\n",
      "building tree 12 of 100\n",
      "building tree 13 of 100\n",
      "building tree 14 of 100building tree 15 of 100\n",
      "\n",
      "building tree 16 of 100\n",
      "building tree 17 of 100\n",
      "building tree 18 of 100\n",
      "building tree 19 of 100\n",
      "building tree 20 of 100\n",
      "building tree 21 of 100\n",
      "building tree 22 of 100\n",
      "building tree 23 of 100\n",
      "building tree 24 of 100\n"
     ]
    },
    {
     "name": "stderr",
     "output_type": "stream",
     "text": [
      "[Parallel(n_jobs=-1)]: Done  16 tasks      | elapsed:    6.8s\n"
     ]
    },
    {
     "name": "stdout",
     "output_type": "stream",
     "text": [
      "building tree 25 of 100\n",
      "building tree 26 of 100\n",
      "building tree 27 of 100\n",
      "building tree 28 of 100\n",
      "building tree 29 of 100\n",
      "building tree 30 of 100\n",
      "building tree 31 of 100\n",
      "building tree 32 of 100\n",
      "building tree 33 of 100\n",
      "building tree 34 of 100\n",
      "building tree 35 of 100building tree 36 of 100\n",
      "\n",
      "building tree 37 of 100\n",
      "building tree 38 of 100\n",
      "building tree 39 of 100\n",
      "building tree 40 of 100\n",
      "building tree 41 of 100\n",
      "building tree 42 of 100\n",
      "building tree 43 of 100\n",
      "building tree 44 of 100\n",
      "building tree 45 of 100\n",
      "building tree 46 of 100\n",
      "building tree 47 of 100\n",
      "building tree 48 of 100\n",
      "building tree 49 of 100\n",
      "building tree 50 of 100\n",
      "building tree 51 of 100\n",
      "building tree 52 of 100\n",
      "building tree 53 of 100\n",
      "building tree 54 of 100\n",
      "building tree 55 of 100\n",
      "building tree 56 of 100\n",
      "building tree 57 of 100\n",
      "building tree 58 of 100\n",
      "building tree 59 of 100\n",
      "building tree 60 of 100\n",
      "building tree 61 of 100\n",
      "building tree 62 of 100\n",
      "building tree 63 of 100\n",
      "building tree 64 of 100\n",
      "building tree 65 of 100\n",
      "building tree 66 of 100\n",
      "building tree 67 of 100\n",
      "building tree 68 of 100\n",
      "building tree 69 of 100\n",
      "building tree 70 of 100\n",
      "building tree 71 of 100\n",
      "building tree 72 of 100\n",
      "building tree 73 of 100\n",
      "building tree 74 of 100\n",
      "building tree 75 of 100\n",
      "building tree 76 of 100\n",
      "building tree 77 of 100\n",
      "building tree 78 of 100\n",
      "building tree 79 of 100\n",
      "building tree 80 of 100\n",
      "building tree 81 of 100\n",
      "building tree 82 of 100\n",
      "building tree 83 of 100\n",
      "building tree 84 of 100\n",
      "building tree 85 of 100\n",
      "building tree 86 of 100\n",
      "building tree 87 of 100\n",
      "building tree 88 of 100\n",
      "building tree 89 of 100\n",
      "building tree 90 of 100\n",
      "building tree 91 of 100\n",
      "building tree 92 of 100\n",
      "building tree 93 of 100\n",
      "building tree 94 of 100\n",
      "building tree 95 of 100\n",
      "building tree 96 of 100\n",
      "building tree 97 of 100\n",
      "building tree 98 of 100\n",
      "building tree 99 of 100\n",
      "building tree 100 of 100\n"
     ]
    },
    {
     "name": "stderr",
     "output_type": "stream",
     "text": [
      "[Parallel(n_jobs=-1)]: Done 100 out of 100 | elapsed:   50.3s finished\n"
     ]
    },
    {
     "data": {
      "text/plain": [
       "RandomForestClassifier(min_samples_leaf=30, n_jobs=-1, verbose=3)"
      ]
     },
     "execution_count": 116,
     "metadata": {},
     "output_type": "execute_result"
    }
   ],
   "source": [
    "rand_forest_model = RandomForestClassifier(min_samples_leaf = 30,verbose=3,n_jobs=-1)\n",
    "rand_forest_model.fit(processed_x_train, y_train)\n",
    "\n",
    "#scores = cross_val_score(rand_forest_model, processed_x_train, y_train,\n",
    "#                        scoring = \"roc_auc\", cv = 10)\n",
    "#print('CV AUC Scores: ', scores)\n",
    "#print('Mean CV AUC Scores: ', np.mean(scores))"
   ]
  },
  {
   "cell_type": "code",
   "execution_count": 123,
   "metadata": {},
   "outputs": [
    {
     "name": "stderr",
     "output_type": "stream",
     "text": [
      "[Parallel(n_jobs=8)]: Using backend ThreadingBackend with 8 concurrent workers.\n",
      "[Parallel(n_jobs=8)]: Done  16 tasks      | elapsed:    0.2s\n",
      "[Parallel(n_jobs=8)]: Done 100 out of 100 | elapsed:    0.4s finished\n"
     ]
    },
    {
     "data": {
      "text/plain": [
       "0.8004646515960852"
      ]
     },
     "execution_count": 123,
     "metadata": {},
     "output_type": "execute_result"
    }
   ],
   "source": [
    "#This is on the unseen test set, we can do cross val as well and that'll be about 5 mins.\n",
    "predict = rand_forest_model.predict(proccessed_x_test)\n",
    "roc_auc_score(predict, y_test)"
   ]
  },
  {
   "cell_type": "code",
   "execution_count": null,
   "metadata": {},
   "outputs": [],
   "source": []
  }
 ],
 "metadata": {
  "kernelspec": {
   "display_name": "Python 3",
   "language": "python",
   "name": "python3"
  },
  "language_info": {
   "codemirror_mode": {
    "name": "ipython",
    "version": 3
   },
   "file_extension": ".py",
   "mimetype": "text/x-python",
   "name": "python",
   "nbconvert_exporter": "python",
   "pygments_lexer": "ipython3",
   "version": "3.8.3"
  }
 },
 "nbformat": 4,
 "nbformat_minor": 4
}
