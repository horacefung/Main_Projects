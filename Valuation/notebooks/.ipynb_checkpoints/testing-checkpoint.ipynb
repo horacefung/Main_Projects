{
 "cells": [
  {
   "cell_type": "markdown",
   "metadata": {},
   "source": [
    "# Test"
   ]
  },
  {
   "cell_type": "code",
   "execution_count": 2,
   "metadata": {},
   "outputs": [],
   "source": [
    "from sklearn.linear_model import LinearRegression\n",
    "from sklearn.metrics import r2_score\n",
    "import pandas as pd\n",
    "from scipy.optimize import root\n",
    "import numpy as np"
   ]
  },
  {
   "cell_type": "code",
   "execution_count": 6,
   "metadata": {},
   "outputs": [
    {
     "name": "stdout",
     "output_type": "stream",
     "text": [
      "    fjac: array([[-1.]])\n",
      "     fun: array([0.])\n",
      " message: 'The solution converged.'\n",
      "    nfev: 9\n",
      "     qtf: array([-5.33573186e-13])\n",
      "       r: array([-3.34722404])\n",
      "  status: 1\n",
      " success: True\n",
      "       x: array([-0.73908513])\n"
     ]
    }
   ],
   "source": [
    "def func(x):\n",
    "    return x*2 + 2 * np.cos(x)\n",
    "sol = root(func, 0)\n",
    "print(sol)"
   ]
  },
  {
   "cell_type": "code",
   "execution_count": 7,
   "metadata": {},
   "outputs": [
    {
     "data": {
      "text/plain": [
       "1.0761863178387898e-08"
      ]
     },
     "execution_count": 7,
     "metadata": {},
     "output_type": "execute_result"
    }
   ],
   "source": [
    "func(-0.73908513)"
   ]
  },
  {
   "cell_type": "code",
   "execution_count": 87,
   "metadata": {},
   "outputs": [],
   "source": [
    "def implied_erp(irr, starting_market_price, dividend_buyback_pct, dividend_buyback_growth, stable_growth, period):\n",
    "    \n",
    "    discount_sum = 0\n",
    "    starting_cf = starting_market_price * dividend_buyback_pct\n",
    "    cash_flows = [None] * period\n",
    "\n",
    "    for i in range(0, period):  # Assume CF1 is received\n",
    "        cash_flows[i] = starting_cf * ((1 + dividend_buyback_growth) ** (1 + i))\n",
    "        \n",
    "    # Perpetuity\n",
    "    terminal_value = (cash_flows[-1] * (1 + stable_growth)) / ((irr - stable_growth) * (1 + irr) ** period)\n",
    "    \n",
    "    # NPV sum\n",
    "    for i in range(0, len(cash_flows)):\n",
    "        discount_sum += cash_flows[i] / (1 + irr)**(1 + i)\n",
    "    \n",
    "    discount_sum += terminal_value\n",
    "    output = discount_sum - starting_market_price\n",
    "    \n",
    "    return output"
   ]
  },
  {
   "cell_type": "code",
   "execution_count": 88,
   "metadata": {},
   "outputs": [],
   "source": [
    "test = implied_erp(0.0839, 1468.36, 0.0402, 0.05, 0.0402, 5)"
   ]
  },
  {
   "cell_type": "code",
   "execution_count": 89,
   "metadata": {},
   "outputs": [
    {
     "data": {
      "text/plain": [
       "-1.128350782845473"
      ]
     },
     "execution_count": 89,
     "metadata": {},
     "output_type": "execute_result"
    }
   ],
   "source": [
    "test"
   ]
  },
  {
   "cell_type": "code",
   "execution_count": 81,
   "metadata": {},
   "outputs": [
    {
     "ename": "TypeError",
     "evalue": "root() missing 2 required positional arguments: 'fun' and 'x0'",
     "output_type": "error",
     "traceback": [
      "\u001b[0;31m---------------------------------------------------------------------------\u001b[0m",
      "\u001b[0;31mTypeError\u001b[0m                                 Traceback (most recent call last)",
      "\u001b[0;32m<ipython-input-81-f3652f475d4b>\u001b[0m in \u001b[0;36m<module>\u001b[0;34m\u001b[0m\n\u001b[0;32m----> 1\u001b[0;31m \u001b[0mroot\u001b[0m\u001b[0;34m(\u001b[0m\u001b[0;34m)\u001b[0m\u001b[0;34m\u001b[0m\u001b[0;34m\u001b[0m\u001b[0m\n\u001b[0m",
      "\u001b[0;31mTypeError\u001b[0m: root() missing 2 required positional arguments: 'fun' and 'x0'"
     ]
    }
   ],
   "source": [
    "root(fun = implied_erp, 0.05, )"
   ]
  },
  {
   "cell_type": "code",
   "execution_count": null,
   "metadata": {},
   "outputs": [],
   "source": []
  }
 ],
 "metadata": {
  "kernelspec": {
   "display_name": "Python 3",
   "language": "python",
   "name": "python3"
  },
  "language_info": {
   "codemirror_mode": {
    "name": "ipython",
    "version": 3
   },
   "file_extension": ".py",
   "mimetype": "text/x-python",
   "name": "python",
   "nbconvert_exporter": "python",
   "pygments_lexer": "ipython3",
   "version": "3.8.3"
  }
 },
 "nbformat": 4,
 "nbformat_minor": 4
}
