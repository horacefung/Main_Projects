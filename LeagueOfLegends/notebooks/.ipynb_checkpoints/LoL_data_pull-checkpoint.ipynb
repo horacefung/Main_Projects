{
 "cells": [
  {
   "cell_type": "markdown",
   "metadata": {},
   "source": [
    "### League of Legends: Spring 2020 Dataset\n",
    "\n",
    "This datasets contains all games across differnt professional League of Legends "
   ]
  },
  {
   "cell_type": "code",
   "execution_count": 209,
   "metadata": {
    "collapsed": true
   },
   "outputs": [],
   "source": [
    "#import packages\n",
    "import pandas as pd\n",
    "import requests\n",
    "import json\n",
    "import pickle\n",
    "from nltk.stem import PorterStemmer\n",
    "from nltk.corpus import stopwords\n",
    "from nltk.tokenize import word_tokenize \n",
    "import numpy as np\n",
    "import pdb"
   ]
  },
  {
   "cell_type": "code",
   "execution_count": 293,
   "metadata": {},
   "outputs": [],
   "source": [
    "#----Read competitve history data set for list of patches ----#\n",
    "patches = pd.read_csv('../data/2020 spring match data OraclesElixir 2020-05-15.csv')\n",
    "patches = list(set(patches['patch']))\n",
    "patches = [str(x) for x in patches]"
   ]
  },
  {
   "cell_type": "code",
   "execution_count": 297,
   "metadata": {
    "collapsed": true
   },
   "outputs": [],
   "source": [
    "def reformat_patch_number(patch):\n",
    "    patch_split = patch.split('.')\n",
    "    patch_split = [str(int(x)) for x in patch_split]\n",
    "    patch_output = patch_split[0] + '.' + patch_split[1] + '.1'\n",
    "    return(patch_output)\n",
    "    "
   ]
  },
  {
   "cell_type": "code",
   "execution_count": 300,
   "metadata": {},
   "outputs": [],
   "source": [
    "patches = [reformat_patch_number(x) for x in patches]"
   ]
  },
  {
   "cell_type": "code",
   "execution_count": 19,
   "metadata": {
    "collapsed": true
   },
   "outputs": [],
   "source": [
    "#----- In case we need to use API ------#\n",
    "\n",
    "#One time api key creation\n",
    "file_name = '/Users/horacefung/Documents/keys/lol_api_key'\n",
    "#key = {'key':''} #don't show key\n",
    "#output = open(file_name,'wb')\n",
    "#pickle.dump(key, output)\n",
    "#output.close()\n",
    "\n",
    "input_file = open(file_name,'rb')\n",
    "api_key = pickle.load(input_file)['key']\n",
    "input_file.close()\n",
    "\n",
    "#api_root_url = \"https://www.googleapis.com/youtube/v3/videos?\"\n",
    "#url_params = \"part=snippet&type=video&chart=mostPopular\"\n",
    "\n",
    "#url = api_root_url + url_params + api_key\n",
    "#data = requests.get(url).json()"
   ]
  },
  {
   "cell_type": "code",
   "execution_count": 309,
   "metadata": {},
   "outputs": [],
   "source": [
    "#----- Pull champion list -----#\n",
    "url = 'http://ddragon.leagueoflegends.com/cdn/' + patches[-1] + '/data/en_US/champion.json'\n",
    "data = requests.get(url).json()\n",
    "champion_list = list(data['data'].keys())"
   ]
  },
  {
   "cell_type": "code",
   "execution_count": 281,
   "metadata": {},
   "outputs": [
    {
     "ename": "JSONDecodeError",
     "evalue": "Expecting value: line 1 column 1 (char 0)",
     "output_type": "error",
     "traceback": [
      "\u001b[0;31m---------------------------------------------------------------------------\u001b[0m",
      "\u001b[0;31mJSONDecodeError\u001b[0m                           Traceback (most recent call last)",
      "\u001b[0;32m<ipython-input-281-c37fa5810aec>\u001b[0m in \u001b[0;36m<module>\u001b[0;34m()\u001b[0m\n\u001b[1;32m      4\u001b[0m \u001b[0murl\u001b[0m \u001b[0;34m=\u001b[0m \u001b[0;34m'http://ddragon.leagueoflegends.com/cdn/'\u001b[0m \u001b[0;34m+\u001b[0m \u001b[0mpatches\u001b[0m\u001b[0;34m[\u001b[0m\u001b[0;36m0\u001b[0m\u001b[0;34m]\u001b[0m \u001b[0;34m+\u001b[0m \u001b[0;34m'/data/en_US/champion.json'\u001b[0m\u001b[0;34m\u001b[0m\u001b[0m\n\u001b[1;32m      5\u001b[0m \u001b[0;34m\u001b[0m\u001b[0m\n\u001b[0;32m----> 6\u001b[0;31m \u001b[0mdata\u001b[0m \u001b[0;34m=\u001b[0m \u001b[0mrequests\u001b[0m\u001b[0;34m.\u001b[0m\u001b[0mget\u001b[0m\u001b[0;34m(\u001b[0m\u001b[0murl\u001b[0m\u001b[0;34m)\u001b[0m\u001b[0;34m.\u001b[0m\u001b[0mjson\u001b[0m\u001b[0;34m(\u001b[0m\u001b[0;34m)\u001b[0m\u001b[0;34m\u001b[0m\u001b[0m\n\u001b[0m",
      "\u001b[0;32m//anaconda/lib/python3.5/site-packages/requests/models.py\u001b[0m in \u001b[0;36mjson\u001b[0;34m(self, **kwargs)\u001b[0m\n\u001b[1;32m    882\u001b[0m                 \u001b[0;32mtry\u001b[0m\u001b[0;34m:\u001b[0m\u001b[0;34m\u001b[0m\u001b[0m\n\u001b[1;32m    883\u001b[0m                     return complexjson.loads(\n\u001b[0;32m--> 884\u001b[0;31m                         \u001b[0mself\u001b[0m\u001b[0;34m.\u001b[0m\u001b[0mcontent\u001b[0m\u001b[0;34m.\u001b[0m\u001b[0mdecode\u001b[0m\u001b[0;34m(\u001b[0m\u001b[0mencoding\u001b[0m\u001b[0;34m)\u001b[0m\u001b[0;34m,\u001b[0m \u001b[0;34m**\u001b[0m\u001b[0mkwargs\u001b[0m\u001b[0;34m\u001b[0m\u001b[0m\n\u001b[0m\u001b[1;32m    885\u001b[0m                     )\n\u001b[1;32m    886\u001b[0m                 \u001b[0;32mexcept\u001b[0m \u001b[0mUnicodeDecodeError\u001b[0m\u001b[0;34m:\u001b[0m\u001b[0;34m\u001b[0m\u001b[0m\n",
      "\u001b[0;32m//anaconda/lib/python3.5/json/__init__.py\u001b[0m in \u001b[0;36mloads\u001b[0;34m(s, encoding, cls, object_hook, parse_float, parse_int, parse_constant, object_pairs_hook, **kw)\u001b[0m\n\u001b[1;32m    317\u001b[0m             \u001b[0mparse_int\u001b[0m \u001b[0;32mis\u001b[0m \u001b[0;32mNone\u001b[0m \u001b[0;32mand\u001b[0m \u001b[0mparse_float\u001b[0m \u001b[0;32mis\u001b[0m \u001b[0;32mNone\u001b[0m \u001b[0;32mand\u001b[0m\u001b[0;34m\u001b[0m\u001b[0m\n\u001b[1;32m    318\u001b[0m             parse_constant is None and object_pairs_hook is None and not kw):\n\u001b[0;32m--> 319\u001b[0;31m         \u001b[0;32mreturn\u001b[0m \u001b[0m_default_decoder\u001b[0m\u001b[0;34m.\u001b[0m\u001b[0mdecode\u001b[0m\u001b[0;34m(\u001b[0m\u001b[0ms\u001b[0m\u001b[0;34m)\u001b[0m\u001b[0;34m\u001b[0m\u001b[0m\n\u001b[0m\u001b[1;32m    320\u001b[0m     \u001b[0;32mif\u001b[0m \u001b[0mcls\u001b[0m \u001b[0;32mis\u001b[0m \u001b[0;32mNone\u001b[0m\u001b[0;34m:\u001b[0m\u001b[0;34m\u001b[0m\u001b[0m\n\u001b[1;32m    321\u001b[0m         \u001b[0mcls\u001b[0m \u001b[0;34m=\u001b[0m \u001b[0mJSONDecoder\u001b[0m\u001b[0;34m\u001b[0m\u001b[0m\n",
      "\u001b[0;32m//anaconda/lib/python3.5/json/decoder.py\u001b[0m in \u001b[0;36mdecode\u001b[0;34m(self, s, _w)\u001b[0m\n\u001b[1;32m    337\u001b[0m \u001b[0;34m\u001b[0m\u001b[0m\n\u001b[1;32m    338\u001b[0m         \"\"\"\n\u001b[0;32m--> 339\u001b[0;31m         \u001b[0mobj\u001b[0m\u001b[0;34m,\u001b[0m \u001b[0mend\u001b[0m \u001b[0;34m=\u001b[0m \u001b[0mself\u001b[0m\u001b[0;34m.\u001b[0m\u001b[0mraw_decode\u001b[0m\u001b[0;34m(\u001b[0m\u001b[0ms\u001b[0m\u001b[0;34m,\u001b[0m \u001b[0midx\u001b[0m\u001b[0;34m=\u001b[0m\u001b[0m_w\u001b[0m\u001b[0;34m(\u001b[0m\u001b[0ms\u001b[0m\u001b[0;34m,\u001b[0m \u001b[0;36m0\u001b[0m\u001b[0;34m)\u001b[0m\u001b[0;34m.\u001b[0m\u001b[0mend\u001b[0m\u001b[0;34m(\u001b[0m\u001b[0;34m)\u001b[0m\u001b[0;34m)\u001b[0m\u001b[0;34m\u001b[0m\u001b[0m\n\u001b[0m\u001b[1;32m    340\u001b[0m         \u001b[0mend\u001b[0m \u001b[0;34m=\u001b[0m \u001b[0m_w\u001b[0m\u001b[0;34m(\u001b[0m\u001b[0ms\u001b[0m\u001b[0;34m,\u001b[0m \u001b[0mend\u001b[0m\u001b[0;34m)\u001b[0m\u001b[0;34m.\u001b[0m\u001b[0mend\u001b[0m\u001b[0;34m(\u001b[0m\u001b[0;34m)\u001b[0m\u001b[0;34m\u001b[0m\u001b[0m\n\u001b[1;32m    341\u001b[0m         \u001b[0;32mif\u001b[0m \u001b[0mend\u001b[0m \u001b[0;34m!=\u001b[0m \u001b[0mlen\u001b[0m\u001b[0;34m(\u001b[0m\u001b[0ms\u001b[0m\u001b[0;34m)\u001b[0m\u001b[0;34m:\u001b[0m\u001b[0;34m\u001b[0m\u001b[0m\n",
      "\u001b[0;32m//anaconda/lib/python3.5/json/decoder.py\u001b[0m in \u001b[0;36mraw_decode\u001b[0;34m(self, s, idx)\u001b[0m\n\u001b[1;32m    355\u001b[0m             \u001b[0mobj\u001b[0m\u001b[0;34m,\u001b[0m \u001b[0mend\u001b[0m \u001b[0;34m=\u001b[0m \u001b[0mself\u001b[0m\u001b[0;34m.\u001b[0m\u001b[0mscan_once\u001b[0m\u001b[0;34m(\u001b[0m\u001b[0ms\u001b[0m\u001b[0;34m,\u001b[0m \u001b[0midx\u001b[0m\u001b[0;34m)\u001b[0m\u001b[0;34m\u001b[0m\u001b[0m\n\u001b[1;32m    356\u001b[0m         \u001b[0;32mexcept\u001b[0m \u001b[0mStopIteration\u001b[0m \u001b[0;32mas\u001b[0m \u001b[0merr\u001b[0m\u001b[0;34m:\u001b[0m\u001b[0;34m\u001b[0m\u001b[0m\n\u001b[0;32m--> 357\u001b[0;31m             \u001b[0;32mraise\u001b[0m \u001b[0mJSONDecodeError\u001b[0m\u001b[0;34m(\u001b[0m\u001b[0;34m\"Expecting value\"\u001b[0m\u001b[0;34m,\u001b[0m \u001b[0ms\u001b[0m\u001b[0;34m,\u001b[0m \u001b[0merr\u001b[0m\u001b[0;34m.\u001b[0m\u001b[0mvalue\u001b[0m\u001b[0;34m)\u001b[0m \u001b[0;32mfrom\u001b[0m \u001b[0;32mNone\u001b[0m\u001b[0;34m\u001b[0m\u001b[0m\n\u001b[0m\u001b[1;32m    358\u001b[0m         \u001b[0;32mreturn\u001b[0m \u001b[0mobj\u001b[0m\u001b[0;34m,\u001b[0m \u001b[0mend\u001b[0m\u001b[0;34m\u001b[0m\u001b[0m\n",
      "\u001b[0;31mJSONDecodeError\u001b[0m: Expecting value: line 1 column 1 (char 0)"
     ]
    }
   ],
   "source": [
    "#----- Pull Relevant Champion Patch Data ---------#\n",
    "\n",
    "def data_pull(patches, champion_list):\n",
    "    \n",
    "\n",
    "\n",
    "\n",
    "dataset = {}\n",
    "\n",
    "for patch in patches:\n",
    "    for champion in champion_list\n",
    "    \n",
    "\n",
    "\n",
    "\n",
    "data = requests.get(url).json()"
   ]
  },
  {
   "cell_type": "code",
   "execution_count": 5,
   "metadata": {
    "collapsed": true
   },
   "outputs": [],
   "source": []
  },
  {
   "cell_type": "code",
   "execution_count": 229,
   "metadata": {},
   "outputs": [
    {
     "data": {
      "text/plain": [
       "dict_keys(['info', 'allytips', 'recommended', 'key', 'name', 'lore', 'stats', 'enemytips', 'image', 'title', 'partype', 'tags', 'passive', 'skins', 'blurb', 'spells', 'id'])"
      ]
     },
     "execution_count": 229,
     "metadata": {},
     "output_type": "execute_result"
    }
   ],
   "source": [
    "#Get additional spell data\n",
    "url = 'http://ddragon.leagueoflegends.com/cdn/10.13.1/data/en_US/champion/Ezreal.json'\n",
    "data = requests.get(url).json()\n",
    "data['data']['Ezreal'].keys()"
   ]
  },
  {
   "cell_type": "code",
   "execution_count": 271,
   "metadata": {},
   "outputs": [],
   "source": [
    "def extract_data(champion, champion_name, patch):\n",
    "    \n",
    "    #Split into base stats & spells\n",
    "    stats = champion['stats']\n",
    "    passive = champion['passive']\n",
    "    spells = champion['spells']\n",
    "    \n",
    "    #Keywords\n",
    "    hard_cc_list = ['airborne', 'charm', 'flee', 'taunt', 'sleep', 'stun', 'supression', 'suspension', \n",
    "                    'stasis', 'pull', 'knock']\n",
    "    soft_cc_list = ['blind', 'cripple', 'disarm', 'ground', 'knockdown', 'nearsight', 'root', 'silence', 'slow']\n",
    "    gap_closer_list = ['dash', 'blink', 'leap', 'launch', 'movementspeed', 'teleport']\n",
    "    vision_list = ['vision', 'sight']\n",
    "    protection_list = ['shield', 'heal']\n",
    "    \n",
    "    #initialize variables\n",
    "    hard_cc_value = 0\n",
    "    soft_cc_value = 0\n",
    "    spells_average_range_value = 0\n",
    "    gap_closer_value = 0\n",
    "    protection_value = 0\n",
    "    \n",
    "    #Passive\n",
    "    passive = passive['description']\n",
    "    passive = passive.lower()\n",
    "    passive = passive.replace('movement speed', 'movementspeed') #specific logic for move speed\n",
    "    passive = [porter.stem(x) for x in word_tokenize(passive)]\n",
    "    hard_cc = len(list(set(passive) & set(hard_cc_list))) #unique key words\n",
    "    soft_cc = len(list(set(passive) & set(soft_cc_list))) #unique key words\n",
    "    protection = len(list(set(passive) & set(protection_list)))\n",
    "    gap_closer = len(list(set(passive) & set(gap_closer_list)))\n",
    "    \n",
    "    #Update talley with passive\n",
    "    hard_cc_value = hard_cc_value + hard_cc\n",
    "    soft_cc_value = soft_cc_value + soft_cc\n",
    "    protection_value = protection_value + protection\n",
    "    gap_closer_value = gap_closer_value + gap_closer\n",
    "    \n",
    "    \n",
    "    #Four spells\n",
    "    for i in range(4):\n",
    "        \n",
    "        #----Extract text information from tooltip\n",
    "        tooltip = spells[i]['tooltip'].lower()\n",
    "        tooltip = tooltip.replace('movement speed', 'movementspeed') #specific logic for move speed\n",
    "        tooltip = [porter.stem(x) for x in word_tokenize(tooltip)]\n",
    "        hard_cc = len(list(set(tooltip) & set(hard_cc_list))) #unique key words\n",
    "        soft_cc = len(list(set(tooltip) & set(soft_cc_list))) #unique key words\n",
    "        protection = len(list(set(tooltip) & set(protection_list)))\n",
    "        gap_closer = len(list(set(tooltip) & set(gap_closer_list)))\n",
    "        spells_range = np.mean(spells[i]['range'])\n",
    "        \n",
    "        #Update talley\n",
    "        hard_cc_value = hard_cc_value + hard_cc\n",
    "        soft_cc_value = soft_cc_value + soft_cc\n",
    "        protection_value = protection_value + protection\n",
    "        gap_closer_value = gap_closer_value + gap_closer\n",
    "        spells_average_range_value = np.mean([spells_average_range_value, spells_range])\n",
    "    \n",
    "    #-----Setup Dataframe---------#\n",
    "    dict_temp = {'champion' : champion_name,\n",
    "                 'patch' : patch,\n",
    "                 'hard_cc_value' : hard_cc_value, \n",
    "                 'soft_cc_value' : soft_cc_value,\n",
    "                 'spells_average_range_value' : spells_average_range_value,\n",
    "                 'gap_closer_value' : gap_closer_value,\n",
    "                 'protection_value' : protection_value}\n",
    "    \n",
    "    dict_temp = {**stats, **dict_temp}\n",
    "    \n",
    "    output_df = pd.DataFrame(dict_temp, index = [0])\n",
    "    output_df = output_df.set_index(['champion', 'patch'])\n",
    "    \n",
    "    \n",
    "    return(output_df)"
   ]
  },
  {
   "cell_type": "code",
   "execution_count": 272,
   "metadata": {},
   "outputs": [
    {
     "data": {
      "text/html": [
       "<div>\n",
       "<style scoped>\n",
       "    .dataframe tbody tr th:only-of-type {\n",
       "        vertical-align: middle;\n",
       "    }\n",
       "\n",
       "    .dataframe tbody tr th {\n",
       "        vertical-align: top;\n",
       "    }\n",
       "\n",
       "    .dataframe thead th {\n",
       "        text-align: right;\n",
       "    }\n",
       "</style>\n",
       "<table border=\"1\" class=\"dataframe\">\n",
       "  <thead>\n",
       "    <tr style=\"text-align: right;\">\n",
       "      <th></th>\n",
       "      <th></th>\n",
       "      <th>armor</th>\n",
       "      <th>armorperlevel</th>\n",
       "      <th>attackdamage</th>\n",
       "      <th>attackdamageperlevel</th>\n",
       "      <th>attackrange</th>\n",
       "      <th>attackspeed</th>\n",
       "      <th>attackspeedperlevel</th>\n",
       "      <th>crit</th>\n",
       "      <th>critperlevel</th>\n",
       "      <th>gap_closer_value</th>\n",
       "      <th>...</th>\n",
       "      <th>movespeed</th>\n",
       "      <th>mp</th>\n",
       "      <th>mpperlevel</th>\n",
       "      <th>mpregen</th>\n",
       "      <th>mpregenperlevel</th>\n",
       "      <th>protection_value</th>\n",
       "      <th>soft_cc_value</th>\n",
       "      <th>spellblock</th>\n",
       "      <th>spellblockperlevel</th>\n",
       "      <th>spells_average_range_value</th>\n",
       "    </tr>\n",
       "    <tr>\n",
       "      <th>champion</th>\n",
       "      <th>patch</th>\n",
       "      <th></th>\n",
       "      <th></th>\n",
       "      <th></th>\n",
       "      <th></th>\n",
       "      <th></th>\n",
       "      <th></th>\n",
       "      <th></th>\n",
       "      <th></th>\n",
       "      <th></th>\n",
       "      <th></th>\n",
       "      <th></th>\n",
       "      <th></th>\n",
       "      <th></th>\n",
       "      <th></th>\n",
       "      <th></th>\n",
       "      <th></th>\n",
       "      <th></th>\n",
       "      <th></th>\n",
       "      <th></th>\n",
       "      <th></th>\n",
       "      <th></th>\n",
       "    </tr>\n",
       "  </thead>\n",
       "  <tbody>\n",
       "    <tr>\n",
       "      <th>Ezreal</th>\n",
       "      <th>10.13.1</th>\n",
       "      <td>22</td>\n",
       "      <td>3.5</td>\n",
       "      <td>60</td>\n",
       "      <td>2.5</td>\n",
       "      <td>550</td>\n",
       "      <td>0.625</td>\n",
       "      <td>2.5</td>\n",
       "      <td>0</td>\n",
       "      <td>0</td>\n",
       "      <td>1</td>\n",
       "      <td>...</td>\n",
       "      <td>325</td>\n",
       "      <td>375</td>\n",
       "      <td>50</td>\n",
       "      <td>8.5</td>\n",
       "      <td>0.65</td>\n",
       "      <td>0</td>\n",
       "      <td>0</td>\n",
       "      <td>30</td>\n",
       "      <td>0.5</td>\n",
       "      <td>12834.375</td>\n",
       "    </tr>\n",
       "  </tbody>\n",
       "</table>\n",
       "<p>1 rows × 25 columns</p>\n",
       "</div>"
      ],
      "text/plain": [
       "                  armor  armorperlevel  attackdamage  attackdamageperlevel  \\\n",
       "champion patch                                                               \n",
       "Ezreal   10.13.1     22            3.5            60                   2.5   \n",
       "\n",
       "                  attackrange  attackspeed  attackspeedperlevel  crit  \\\n",
       "champion patch                                                          \n",
       "Ezreal   10.13.1          550        0.625                  2.5     0   \n",
       "\n",
       "                  critperlevel  gap_closer_value             ...              \\\n",
       "champion patch                                               ...               \n",
       "Ezreal   10.13.1             0                 1             ...               \n",
       "\n",
       "                  movespeed   mp  mpperlevel  mpregen  mpregenperlevel  \\\n",
       "champion patch                                                           \n",
       "Ezreal   10.13.1        325  375          50      8.5             0.65   \n",
       "\n",
       "                  protection_value  soft_cc_value  spellblock  \\\n",
       "champion patch                                                  \n",
       "Ezreal   10.13.1                 0              0          30   \n",
       "\n",
       "                  spellblockperlevel  spells_average_range_value  \n",
       "champion patch                                                    \n",
       "Ezreal   10.13.1                 0.5                   12834.375  \n",
       "\n",
       "[1 rows x 25 columns]"
      ]
     },
     "execution_count": 272,
     "metadata": {},
     "output_type": "execute_result"
    }
   ],
   "source": [
    "thresh_spells = data['data']['Ezreal']\n",
    "extract_data(thresh_spells, 'Ezreal', '10.13.1')"
   ]
  },
  {
   "cell_type": "code",
   "execution_count": 100,
   "metadata": {
    "collapsed": true
   },
   "outputs": [],
   "source": [
    "clean_list = [porter.stem(x) for x in word_tokenize(tooltip)]"
   ]
  },
  {
   "cell_type": "code",
   "execution_count": 239,
   "metadata": {},
   "outputs": [
    {
     "data": {
      "text/plain": [
       "'whatever omg'"
      ]
     },
     "execution_count": 239,
     "metadata": {},
     "output_type": "execute_result"
    }
   ],
   "source": [
    "'whatever OMG'.lower()"
   ]
  },
  {
   "cell_type": "code",
   "execution_count": 150,
   "metadata": {},
   "outputs": [
    {
     "data": {
      "text/plain": [
       "2"
      ]
     },
     "execution_count": 150,
     "metadata": {},
     "output_type": "execute_result"
    }
   ],
   "source": [
    "len(list(set(clean_list) & set(hard_cc)))"
   ]
  },
  {
   "cell_type": "code",
   "execution_count": null,
   "metadata": {
    "collapsed": true
   },
   "outputs": [],
   "source": [
    "#Notes\n",
    "\n",
    "#1. Rolling average/window for recent performance for team e.g. Cloud 9\n",
    "#2. Don't use player name, we should moneyball this and break down the player by their stats\n",
    "# then do a stats coming into this game "
   ]
  }
 ],
 "metadata": {
  "anaconda-cloud": {},
  "kernelspec": {
   "display_name": "Python [conda env:anaconda]",
   "language": "python",
   "name": "conda-env-anaconda-py"
  },
  "language_info": {
   "codemirror_mode": {
    "name": "ipython",
    "version": 3
   },
   "file_extension": ".py",
   "mimetype": "text/x-python",
   "name": "python",
   "nbconvert_exporter": "python",
   "pygments_lexer": "ipython3",
   "version": "3.5.2"
  }
 },
 "nbformat": 4,
 "nbformat_minor": 2
}
